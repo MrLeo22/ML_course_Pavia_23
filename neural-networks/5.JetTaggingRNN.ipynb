{
  "cells": [
    {
      "cell_type": "markdown",
      "metadata": {
        "id": "GobnnHynvc_q"
      },
      "source": [
        "# Training a Jet Tagging with **Recurrent Neural Network** \n",
        "\n",
        "---\n",
        "In this notebook, we perform a Jet identification task using a multiclass classifier with a GRU unit.\n",
        "Gated Recurrent Units are one kind of RNNs. \n",
        "\n",
        "The problem consists in identifying a given jet as a quark, a gluon, a W, a Z, or a top,\n",
        "based on a jet image, i.e., a 2D histogram of the transverse momentum ($p_T$) deposited in each of 100x100\n",
        "bins of a square window of the ($\\eta$, $\\phi$) plane, centered along the jet axis.\n",
        "\n",
        "For details on the physics problem, see https://arxiv.org/pdf/1804.06913.pdf \n",
        "\n",
        "For details on the dataset, see Notebook1\n",
        "\n",
        "---"
      ]
    },
    {
      "cell_type": "code",
      "execution_count": 1,
      "metadata": {
        "id": "jCbw5IbLvc_s"
      },
      "outputs": [],
      "source": [
        "import os\n",
        "import h5py\n",
        "import glob\n",
        "import numpy as np\n",
        "import matplotlib.pyplot as plt\n",
        "%matplotlib inline"
      ]
    },
    {
      "cell_type": "markdown",
      "metadata": {
        "id": "MwK1GEcmvc_t"
      },
      "source": [
        "# Preparation of the training and validation samples\n",
        "\n",
        "---\n",
        "In order to import the dataset, we now\n",
        "- clone the dataset repository (to import the data in Colab)\n",
        "- load the h5 files in the data/ repository\n",
        "- extract the data we need: a target and jetImage \n",
        "\n",
        "To type shell commands, we start the command line with !\n",
        "\n",
        "nb, if you are running locally you can skip the step below and change the paths later to point to the folder with your previous download of the datasets."
      ]
    },
    {
      "cell_type": "code",
      "execution_count": 2,
      "metadata": {
        "id": "hEGKap9Xvc_u",
        "outputId": "32fb37e3-f9e9-4e0f-b3bd-7d9711a06791",
        "colab": {
          "base_uri": "https://localhost:8080/"
        }
      },
      "outputs": [
        {
          "output_type": "stream",
          "name": "stdout",
          "text": [
            "  % Total    % Received % Xferd  Average Speed   Time    Time     Time  Current\n",
            "                                 Dload  Upload   Total   Spent    Left  Speed\n",
            "100  333M    0  333M    0     0  94.2M      0 --:--:--  0:00:03 --:--:-- 94.1M\n",
            "Data-MLtutorial/\n",
            "Data-MLtutorial/JetDataset/\n",
            "Data-MLtutorial/JetDataset/jetImage_7_100p_0_10000.h5\n",
            "Data-MLtutorial/JetDataset/jetImage_7_100p_10000_20000.h5\n",
            "Data-MLtutorial/JetDataset/jetImage_7_100p_30000_40000.h5\n",
            "Data-MLtutorial/JetDataset/jetImage_7_100p_40000_50000.h5\n",
            "Data-MLtutorial/JetDataset/jetImage_7_100p_50000_60000.h5\n",
            "Data-MLtutorial/JetDataset/jetImage_7_100p_60000_70000.h5\n",
            "Data-MLtutorial/JetDataset/jetImage_7_100p_70000_80000.h5\n",
            "Data-MLtutorial/JetDataset/jetImage_7_100p_80000_90000.h5\n",
            "jetImage_7_100p_0_10000.h5\tjetImage_7_100p_50000_60000.h5\n",
            "jetImage_7_100p_10000_20000.h5\tjetImage_7_100p_60000_70000.h5\n",
            "jetImage_7_100p_30000_40000.h5\tjetImage_7_100p_70000_80000.h5\n",
            "jetImage_7_100p_40000_50000.h5\tjetImage_7_100p_80000_90000.h5\n"
          ]
        }
      ],
      "source": [
        "! curl https://cernbox.cern.ch/s/6Ec5pGFEpFWeH6S/download -o Data-MLtutorial.tar.gz\n",
        "! tar -xvzf Data-MLtutorial.tar.gz \n",
        "! ls Data-MLtutorial/JetDataset/\n",
        "! rm Data-MLtutorial.tar.gz "
      ]
    },
    {
      "cell_type": "code",
      "execution_count": 3,
      "metadata": {
        "id": "TqHXQt2zvc_u",
        "outputId": "4b62ebce-5913-492e-e2e1-8f33b5ba0f94",
        "colab": {
          "base_uri": "https://localhost:8080/"
        }
      },
      "outputs": [
        {
          "output_type": "stream",
          "name": "stdout",
          "text": [
            "Appending Data-MLtutorial/JetDataset/jetImage_7_100p_30000_40000.h5\n",
            "Appending Data-MLtutorial/JetDataset/jetImage_7_100p_60000_70000.h5\n",
            "Appending Data-MLtutorial/JetDataset/jetImage_7_100p_50000_60000.h5\n",
            "Appending Data-MLtutorial/JetDataset/jetImage_7_100p_10000_20000.h5\n",
            "Appending Data-MLtutorial/JetDataset/jetImage_7_100p_0_10000.h5\n",
            "(50000, 5) (50000, 100, 16)\n"
          ]
        }
      ],
      "source": [
        "target = np.array([])\n",
        "jetList = np.array([])\n",
        "# we cannot load all data on Colab. So we just take a few files\n",
        "datafiles = ['Data-MLtutorial/JetDataset/jetImage_7_100p_30000_40000.h5',\n",
        "             'Data-MLtutorial/JetDataset/jetImage_7_100p_60000_70000.h5',\n",
        "             'Data-MLtutorial/JetDataset/jetImage_7_100p_50000_60000.h5',\n",
        "             'Data-MLtutorial/JetDataset/jetImage_7_100p_10000_20000.h5',\n",
        "             'Data-MLtutorial/JetDataset/jetImage_7_100p_0_10000.h5']\n",
        "# if you are running locallt, you can use the full dataset doing\n",
        "# for fileIN in glob.glob(\"tutorials/HiggsSchool/data/*h5\"):\n",
        "for fileIN in datafiles:\n",
        "    print(\"Appending %s\" %fileIN)\n",
        "    f = h5py.File(fileIN)\n",
        "    myJetList = np.array(f.get(\"jetConstituentList\"))\n",
        "    mytarget = np.array(f.get('jets')[0:,-6:-1])\n",
        "    jetList = np.concatenate([jetList, myJetList], axis=0) if jetList.size else myJetList\n",
        "    target = np.concatenate([target, mytarget], axis=0) if target.size else mytarget\n",
        "    del myJetList, mytarget\n",
        "    f.close()\n",
        "print(target.shape, jetList.shape)"
      ]
    },
    {
      "cell_type": "markdown",
      "metadata": {
        "id": "pNFvTGHLvc_v"
      },
      "source": [
        "The dataset consists of 50000 with up to 100 particles in each jet. These 100 particles have been used to fill the 100x100 jet images.\n",
        "\n",
        "---\n",
        "\n",
        "We now shuffle the data, splitting them into a training and a validation dataset with 2:1 ratio"
      ]
    },
    {
      "cell_type": "code",
      "execution_count": 4,
      "metadata": {
        "id": "GsMxklt_vc_v",
        "outputId": "22a2d9ab-0e01-44dd-c94e-6398d86ebfe9",
        "colab": {
          "base_uri": "https://localhost:8080/"
        }
      },
      "outputs": [
        {
          "output_type": "stream",
          "name": "stdout",
          "text": [
            "(33500, 100, 16) (16500, 100, 16) (33500, 5) (16500, 5)\n"
          ]
        }
      ],
      "source": [
        "from sklearn.model_selection import train_test_split\n",
        "X_train, X_val, y_train, y_val = train_test_split(jetList, target, test_size=0.33)\n",
        "print(X_train.shape, X_val.shape, y_train.shape, y_val.shape)\n",
        "del jetList, target"
      ]
    },
    {
      "cell_type": "markdown",
      "source": [],
      "metadata": {
        "id": "4vTqFxP7xDhZ"
      }
    },
    {
      "cell_type": "code",
      "source": [
        "from sklearn.preprocessing import MinMaxScaler, StandardScaler\n",
        "def scaler(x):\n",
        "  scaler = StandardScaler()\n",
        "  fit = [scaler.fit(x[:,:,i]) for i in range(x.shape[-1])]\n",
        "  scaled = [scaler.transform(x[:,:,i]) for i in range(x.shape[-1])]\n",
        "  arr = np.array(scaled)\n",
        "  roll_arr = np.rollaxis(arr, 0,3)\n",
        "  return roll_arr"
      ],
      "metadata": {
        "id": "qWDaERfB0ffQ"
      },
      "execution_count": 19,
      "outputs": []
    },
    {
      "cell_type": "code",
      "source": [
        "rescaled = {'x_train':scaler(X_train),\n",
        "            'x_val':scaler(X_val),\n",
        "            }\n",
        "#X_train_scaled = np.array(scaler(X_train))\n",
        "#X_train_scaled = np.rollaxis(X_train_scaled, 0,3)\n",
        "\n",
        "#plt.hist(X_train[:,:,0].flatten(), bins=50)\n",
        "#plt.figure()\n",
        "#plt.hist(X_train_scaled[:,:,0].flatten(), bins = 50)\n"
      ],
      "metadata": {
        "id": "SFkKmqyr4zyH"
      },
      "execution_count": 20,
      "outputs": []
    },
    {
      "cell_type": "markdown",
      "metadata": {
        "id": "J77kW83Pvc_v"
      },
      "source": [
        "# Building the RNN model\n",
        "\n",
        "A recurrent neural network (RNN) is a type of NN which processes sequential data or time series data. They are commonly used for ordinal or temporal problems, such as natural language processing (NLP). They are distinguished by their “memory” as they take information from prior inputs to influence the current input and output.\n",
        "\n",
        "<img src=\"https://github.com/jngadiub/ML_course_Pavia_23/blob/main/neural-networks/figures/rnn1.png?raw=1\" alt=\"Drawing\" style=\"width: 600px;\"/>\n",
        "\n",
        "In this notebook we treat the particles clustered by the jet algorithm as an ordered sequence processed through a type of RNN called [Gated Recurrent Units](https://towardsdatascience.com/understanding-gru-networks-2ef37df6c9be). GRUs are improved version of standard RNN that solves the solves the vanishing gradient problem. The update and reset gates decide what information should be passed to the output making the model able to keep information from long ago, without washing it through time or remove information which is irrelevant to the prediction. The main ingredients are:\n",
        "\n",
        "- number of hidden units: the size of the hidden state *ht*\n",
        "- gates activation function (typically a sigmoid between 0 and 1 to either let no flow or complete flow of information throughout the gates)\n",
        "- current state activation function (typically a tanh between -1 and 1 to allow for increases and decreases in the state)"
      ]
    },
    {
      "cell_type": "code",
      "execution_count": 21,
      "metadata": {
        "id": "uBv3VyZTvc_w"
      },
      "outputs": [],
      "source": [
        "# keras imports\n",
        "from tensorflow.keras.models import Model\n",
        "from tensorflow.keras.layers import Dense, Input, GRU, Dropout, Masking\n",
        "from tensorflow.keras.utils import plot_model\n",
        "from tensorflow.keras import backend as K\n",
        "from tensorflow.keras import metrics\n",
        "from tensorflow.keras.callbacks import EarlyStopping, ReduceLROnPlateau, TerminateOnNaN"
      ]
    },
    {
      "cell_type": "code",
      "execution_count": 91,
      "metadata": {
        "id": "OWEpC0LEvc_x"
      },
      "outputs": [],
      "source": [
        "# no normalization\n",
        "featureArrayLength = (X_train.shape[1],X_train.shape[2])\n",
        "dropoutRate = 0.25"
      ]
    },
    {
      "cell_type": "code",
      "source": [
        "# with normalization\n",
        "featureArrayLength = (rescaled['x_train'].shape[1],rescaled['x_train'].shape[2])\n",
        "dropoutRate = 0.25"
      ],
      "metadata": {
        "id": "qiUIR6gPEIY0"
      },
      "execution_count": 22,
      "outputs": []
    },
    {
      "cell_type": "code",
      "execution_count": 23,
      "metadata": {
        "id": "1JYC6-Mcvc_x"
      },
      "outputs": [],
      "source": [
        "#### we have 100 particles so the lenght matches the # of particles, even the zero ones. each particle has its own 16 features\n",
        "inputList = Input(shape=(featureArrayLength)) # shape is 100 and 16 features\n",
        "x = Masking(mask_value=0.0)(inputList) # forget about zero-values in input\n",
        "x = GRU(units=40, activation=\"tanh\", recurrent_activation='sigmoid')(x)\n",
        "x = Dropout(dropoutRate)(x)\n",
        "#\n",
        "x = Dense(20, activation='relu')(x)\n",
        "x = Dropout(dropoutRate)(x)\n",
        "#\n",
        "x = Dense(10, activation='relu')(x)\n",
        "x = Dropout(dropoutRate)(x)\n",
        "x = Dense(5, activation='relu')(x)\n",
        "#\n",
        "output = Dense(5, activation='softmax')(x)\n",
        "####\n",
        "model = Model(inputs=inputList, outputs=output)"
      ]
    },
    {
      "cell_type": "code",
      "execution_count": 24,
      "metadata": {
        "id": "Kdm9Zj-dvc_x",
        "outputId": "a245994c-5db5-41e5-ff61-8cc345360d30",
        "colab": {
          "base_uri": "https://localhost:8080/"
        }
      },
      "outputs": [
        {
          "output_type": "stream",
          "name": "stdout",
          "text": [
            "Model: \"model_1\"\n",
            "_________________________________________________________________\n",
            " Layer (type)                Output Shape              Param #   \n",
            "=================================================================\n",
            " input_2 (InputLayer)        [(None, 100, 16)]         0         \n",
            "                                                                 \n",
            " masking_1 (Masking)         (None, 100, 16)           0         \n",
            "                                                                 \n",
            " gru_1 (GRU)                 (None, 40)                6960      \n",
            "                                                                 \n",
            " dropout_3 (Dropout)         (None, 40)                0         \n",
            "                                                                 \n",
            " dense_4 (Dense)             (None, 20)                820       \n",
            "                                                                 \n",
            " dropout_4 (Dropout)         (None, 20)                0         \n",
            "                                                                 \n",
            " dense_5 (Dense)             (None, 10)                210       \n",
            "                                                                 \n",
            " dropout_5 (Dropout)         (None, 10)                0         \n",
            "                                                                 \n",
            " dense_6 (Dense)             (None, 5)                 55        \n",
            "                                                                 \n",
            " dense_7 (Dense)             (None, 5)                 30        \n",
            "                                                                 \n",
            "=================================================================\n",
            "Total params: 8,075\n",
            "Trainable params: 8,075\n",
            "Non-trainable params: 0\n",
            "_________________________________________________________________\n"
          ]
        }
      ],
      "source": [
        "model.compile(loss='categorical_crossentropy', optimizer='adam')\n",
        "model.summary()"
      ]
    },
    {
      "cell_type": "markdown",
      "metadata": {
        "id": "I9Pe1Inrvc_x"
      },
      "source": [
        "We now train the model"
      ]
    },
    {
      "cell_type": "code",
      "execution_count": 25,
      "metadata": {
        "id": "qVZPqkrZvc_y"
      },
      "outputs": [],
      "source": [
        "batch_size = 128\n",
        "n_epochs = 200"
      ]
    },
    {
      "cell_type": "code",
      "execution_count": 26,
      "metadata": {
        "id": "-M5AH3lfvc_y",
        "outputId": "69c89964-ea3b-412c-86e0-ae4d2798c67f",
        "colab": {
          "base_uri": "https://localhost:8080/"
        }
      },
      "outputs": [
        {
          "output_type": "stream",
          "name": "stdout",
          "text": [
            "Epoch 1/200\n",
            "262/262 - 10s - loss: 1.5858 - val_loss: 1.5245 - lr: 0.0010 - 10s/epoch - 38ms/step\n",
            "Epoch 2/200\n",
            "262/262 - 3s - loss: 1.4454 - val_loss: 1.3764 - lr: 0.0010 - 3s/epoch - 12ms/step\n",
            "Epoch 3/200\n",
            "262/262 - 3s - loss: 1.3887 - val_loss: 1.3622 - lr: 0.0010 - 3s/epoch - 11ms/step\n",
            "Epoch 4/200\n",
            "262/262 - 3s - loss: 1.3714 - val_loss: 1.3486 - lr: 0.0010 - 3s/epoch - 11ms/step\n",
            "Epoch 5/200\n",
            "262/262 - 5s - loss: 1.3627 - val_loss: 1.3457 - lr: 0.0010 - 5s/epoch - 17ms/step\n",
            "Epoch 6/200\n",
            "262/262 - 3s - loss: 1.3509 - val_loss: 1.3356 - lr: 0.0010 - 3s/epoch - 11ms/step\n",
            "Epoch 7/200\n",
            "262/262 - 3s - loss: 1.3458 - val_loss: 1.3347 - lr: 0.0010 - 3s/epoch - 11ms/step\n",
            "Epoch 8/200\n",
            "262/262 - 3s - loss: 1.3414 - val_loss: 1.3466 - lr: 0.0010 - 3s/epoch - 12ms/step\n",
            "Epoch 9/200\n",
            "262/262 - 4s - loss: 1.3375 - val_loss: 1.3341 - lr: 0.0010 - 4s/epoch - 16ms/step\n",
            "Epoch 10/200\n",
            "262/262 - 3s - loss: 1.3327 - val_loss: 1.3267 - lr: 0.0010 - 3s/epoch - 11ms/step\n",
            "Epoch 11/200\n",
            "262/262 - 3s - loss: 1.3276 - val_loss: 1.3252 - lr: 0.0010 - 3s/epoch - 11ms/step\n",
            "Epoch 12/200\n",
            "262/262 - 3s - loss: 1.3229 - val_loss: 1.3189 - lr: 0.0010 - 3s/epoch - 11ms/step\n",
            "Epoch 13/200\n",
            "262/262 - 4s - loss: 1.3179 - val_loss: 1.3212 - lr: 0.0010 - 4s/epoch - 15ms/step\n",
            "Epoch 14/200\n",
            "262/262 - 3s - loss: 1.3132 - val_loss: 1.3148 - lr: 0.0010 - 3s/epoch - 11ms/step\n",
            "Epoch 15/200\n",
            "262/262 - 3s - loss: 1.3139 - val_loss: 1.3136 - lr: 0.0010 - 3s/epoch - 11ms/step\n",
            "Epoch 16/200\n",
            "262/262 - 3s - loss: 1.3105 - val_loss: 1.3089 - lr: 0.0010 - 3s/epoch - 12ms/step\n",
            "Epoch 17/200\n",
            "262/262 - 4s - loss: 1.3056 - val_loss: 1.3128 - lr: 0.0010 - 4s/epoch - 14ms/step\n",
            "Epoch 18/200\n",
            "\n",
            "Epoch 18: ReduceLROnPlateau reducing learning rate to 0.00010000000474974513.\n",
            "262/262 - 3s - loss: 1.3040 - val_loss: 1.3174 - lr: 0.0010 - 3s/epoch - 11ms/step\n",
            "Epoch 19/200\n",
            "262/262 - 3s - loss: 1.2942 - val_loss: 1.3008 - lr: 1.0000e-04 - 3s/epoch - 12ms/step\n",
            "Epoch 20/200\n",
            "262/262 - 3s - loss: 1.2914 - val_loss: 1.2999 - lr: 1.0000e-04 - 3s/epoch - 12ms/step\n",
            "Epoch 21/200\n",
            "262/262 - 4s - loss: 1.2910 - val_loss: 1.2994 - lr: 1.0000e-04 - 4s/epoch - 14ms/step\n",
            "Epoch 22/200\n",
            "262/262 - 3s - loss: 1.2892 - val_loss: 1.2990 - lr: 1.0000e-04 - 3s/epoch - 13ms/step\n",
            "Epoch 23/200\n",
            "262/262 - 3s - loss: 1.2891 - val_loss: 1.2991 - lr: 1.0000e-04 - 3s/epoch - 11ms/step\n",
            "Epoch 24/200\n",
            "\n",
            "Epoch 24: ReduceLROnPlateau reducing learning rate to 1.0000000474974514e-05.\n",
            "262/262 - 4s - loss: 1.2882 - val_loss: 1.2993 - lr: 1.0000e-04 - 4s/epoch - 14ms/step\n",
            "Epoch 25/200\n",
            "262/262 - 3s - loss: 1.2862 - val_loss: 1.2984 - lr: 1.0000e-05 - 3s/epoch - 11ms/step\n",
            "Epoch 26/200\n",
            "262/262 - 3s - loss: 1.2856 - val_loss: 1.2984 - lr: 1.0000e-05 - 3s/epoch - 11ms/step\n",
            "Epoch 27/200\n",
            "262/262 - 3s - loss: 1.2869 - val_loss: 1.2980 - lr: 1.0000e-05 - 3s/epoch - 11ms/step\n",
            "Epoch 28/200\n",
            "262/262 - 4s - loss: 1.2856 - val_loss: 1.2981 - lr: 1.0000e-05 - 4s/epoch - 14ms/step\n",
            "Epoch 29/200\n",
            "\n",
            "Epoch 29: ReduceLROnPlateau reducing learning rate to 1.0000000656873453e-06.\n",
            "262/262 - 3s - loss: 1.2845 - val_loss: 1.2980 - lr: 1.0000e-05 - 3s/epoch - 11ms/step\n",
            "Epoch 30/200\n",
            "262/262 - 3s - loss: 1.2859 - val_loss: 1.2980 - lr: 1.0000e-06 - 3s/epoch - 11ms/step\n",
            "Epoch 31/200\n",
            "\n",
            "Epoch 31: ReduceLROnPlateau reducing learning rate to 1.0000001111620805e-07.\n",
            "262/262 - 3s - loss: 1.2861 - val_loss: 1.2980 - lr: 1.0000e-06 - 3s/epoch - 11ms/step\n",
            "Epoch 32/200\n",
            "262/262 - 4s - loss: 1.2863 - val_loss: 1.2980 - lr: 1.0000e-07 - 4s/epoch - 14ms/step\n",
            "Epoch 33/200\n",
            "\n",
            "Epoch 33: ReduceLROnPlateau reducing learning rate to 1.000000082740371e-08.\n",
            "262/262 - 3s - loss: 1.2848 - val_loss: 1.2980 - lr: 1.0000e-07 - 3s/epoch - 11ms/step\n",
            "Epoch 34/200\n",
            "262/262 - 3s - loss: 1.2867 - val_loss: 1.2980 - lr: 1.0000e-08 - 3s/epoch - 11ms/step\n",
            "Epoch 35/200\n",
            "\n",
            "Epoch 35: ReduceLROnPlateau reducing learning rate to 1.000000082740371e-09.\n",
            "262/262 - 3s - loss: 1.2850 - val_loss: 1.2980 - lr: 1.0000e-08 - 3s/epoch - 11ms/step\n",
            "Epoch 36/200\n",
            "262/262 - 4s - loss: 1.2836 - val_loss: 1.2980 - lr: 1.0000e-09 - 4s/epoch - 14ms/step\n",
            "Epoch 37/200\n",
            "\n",
            "Epoch 37: ReduceLROnPlateau reducing learning rate to 1.000000082740371e-10.\n",
            "262/262 - 3s - loss: 1.2862 - val_loss: 1.2980 - lr: 1.0000e-09 - 3s/epoch - 11ms/step\n",
            "Epoch 38/200\n",
            "262/262 - 3s - loss: 1.2874 - val_loss: 1.2980 - lr: 1.0000e-10 - 3s/epoch - 11ms/step\n",
            "Epoch 39/200\n",
            "\n",
            "Epoch 39: ReduceLROnPlateau reducing learning rate to 1.000000082740371e-11.\n",
            "262/262 - 3s - loss: 1.2845 - val_loss: 1.2980 - lr: 1.0000e-10 - 3s/epoch - 11ms/step\n",
            "Epoch 40/200\n",
            "262/262 - 3s - loss: 1.2853 - val_loss: 1.2980 - lr: 1.0000e-11 - 3s/epoch - 13ms/step\n",
            "Epoch 41/200\n",
            "\n",
            "Epoch 41: ReduceLROnPlateau reducing learning rate to 1.000000082740371e-12.\n",
            "262/262 - 3s - loss: 1.2861 - val_loss: 1.2980 - lr: 1.0000e-11 - 3s/epoch - 11ms/step\n",
            "Epoch 42/200\n",
            "262/262 - 3s - loss: 1.2856 - val_loss: 1.2980 - lr: 1.0000e-12 - 3s/epoch - 10ms/step\n",
            "Epoch 43/200\n",
            "\n",
            "Epoch 43: ReduceLROnPlateau reducing learning rate to 1.0000001044244145e-13.\n",
            "262/262 - 3s - loss: 1.2859 - val_loss: 1.2980 - lr: 1.0000e-12 - 3s/epoch - 10ms/step\n",
            "Epoch 43: early stopping\n"
          ]
        }
      ],
      "source": [
        "# train \n",
        "history = model.fit(rescaled['x_train'], y_train, epochs=n_epochs, batch_size=batch_size, verbose = 2,\n",
        "                validation_data=(rescaled['x_val'], y_val),\n",
        "                callbacks = [\n",
        "                EarlyStopping(monitor='val_loss', patience=10, verbose=1),\n",
        "                ReduceLROnPlateau(monitor='val_loss', factor=0.1, patience=2, verbose=1),\n",
        "                TerminateOnNaN()])"
      ]
    },
    {
      "cell_type": "code",
      "execution_count": 27,
      "metadata": {
        "id": "AdN-T7udvc_y",
        "outputId": "01495d43-1228-4d13-cca3-df1ade9b006f",
        "colab": {
          "base_uri": "https://localhost:8080/",
          "height": 472
        }
      },
      "outputs": [
        {
          "output_type": "display_data",
          "data": {
            "text/plain": [
              "<Figure size 640x480 with 1 Axes>"
            ],
            "image/png": "[encoded data removed]"
          },
          "metadata": {}
        }
      ],
      "source": [
        "# plot training history\n",
        "plt.plot(history.history['loss'])\n",
        "plt.plot(history.history['val_loss'])\n",
        "plt.yscale('log')\n",
        "plt.title('Training History')\n",
        "plt.ylabel('loss')\n",
        "plt.xlabel('epoch')\n",
        "plt.legend(['training', 'validation'], loc='upper right')\n",
        "plt.show()"
      ]
    },
    {
      "cell_type": "markdown",
      "metadata": {
        "id": "3BVZa38qvc_y"
      },
      "source": [
        "# Building the ROC Curves"
      ]
    },
    {
      "cell_type": "code",
      "execution_count": 16,
      "metadata": {
        "id": "-zQd__34vc_y"
      },
      "outputs": [],
      "source": [
        "labels = ['gluon', 'quark', 'W', 'Z', 'top']"
      ]
    },
    {
      "cell_type": "code",
      "execution_count": 28,
      "metadata": {
        "id": "wgUZQmsOvc_z",
        "outputId": "91c6befb-45d5-424e-e5dc-e1e0c496ff20",
        "colab": {
          "base_uri": "https://localhost:8080/",
          "height": 474
        }
      },
      "outputs": [
        {
          "output_type": "stream",
          "name": "stdout",
          "text": [
            "516/516 [==============================] - 3s 3ms/step\n"
          ]
        },
        {
          "output_type": "display_data",
          "data": {
            "text/plain": [
              "<Figure size 640x480 with 1 Axes>"
            ],
            "image/png": "[encoded data removed]"
          },
          "metadata": {}
        }
      ],
      "source": [
        "import pandas as pd\n",
        "from sklearn.metrics import roc_curve, auc\n",
        "predict_val = model.predict(rescaled['x_val'])\n",
        "df = pd.DataFrame()\n",
        "fpr = {}\n",
        "tpr = {}\n",
        "auc1 = {}\n",
        "\n",
        "plt.figure()\n",
        "for i, label in enumerate(labels):\n",
        "        df[label] = y_val[:,i]\n",
        "        df[label + '_pred'] = predict_val[:,i]\n",
        "\n",
        "        fpr[label], tpr[label], threshold = roc_curve(df[label],df[label+'_pred'])\n",
        "\n",
        "        auc1[label] = auc(fpr[label], tpr[label])\n",
        "\n",
        "        plt.plot(tpr[label],fpr[label],label='%s tagger, auc = %.1f%%'%(label,auc1[label]*100.))\n",
        "plt.semilogy()\n",
        "plt.xlabel(\"sig. efficiency\")\n",
        "plt.ylabel(\"bkg. mistag rate\")\n",
        "plt.ylim(0.000001,1)\n",
        "plt.grid(True)\n",
        "plt.legend(loc='lower right')\n",
        "plt.show()\n"
      ]
    },
    {
      "cell_type": "code",
      "execution_count": null,
      "metadata": {
        "id": "yRMrlgvkvc_z"
      },
      "outputs": [],
      "source": []
    }
  ],
  "metadata": {
    "kernelspec": {
      "display_name": "Python 3 (ipykernel)",
      "language": "python",
      "name": "python3"
    },
    "language_info": {
      "codemirror_mode": {
        "name": "ipython",
        "version": 3
      },
      "file_extension": ".py",
      "mimetype": "text/x-python",
      "name": "python",
      "nbconvert_exporter": "python",
      "pygments_lexer": "ipython3",
      "version": "3.9.12"
    },
    "colab": {
      "provenance": [],
      "gpuType": "T4"
    },
    "accelerator": "GPU",
    "gpuClass": "standard"
  },
  "nbformat": 4,
  "nbformat_minor": 0
}