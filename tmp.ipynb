# -*- coding: utf-8 -*-
"""
Created on Mon May  8 15:18:37 2023

@author: leo_b
"""

import numpy as np