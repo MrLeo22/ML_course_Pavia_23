{
  "nbformat": 4,
  "nbformat_minor": 0,
  "metadata": {
    "colab": {
      "provenance": [],
      "gpuType": "T4",
      "authorship_tag": "ABX9TyOtACjsuxBEl2EUfXnpi9lY",
      "include_colab_link": true
    },
    "kernelspec": {
      "name": "python3",
      "display_name": "Python 3"
    },
    "language_info": {
      "name": "python"
    },
    "accelerator": "GPU"
  },
  "cells": [
    {
      "cell_type": "markdown",
      "metadata": {
        "id": "view-in-github",
        "colab_type": "text"
      },
      "source": [
        "<a href=\"https://colab.research.google.com/github/MrLeo22/ML_course_Pavia_23/blob/main/2D_Unet_Model.ipynb\" target=\"_parent\"><img src=\"https://colab.research.google.com/assets/colab-badge.svg\" alt=\"Open In Colab\"/></a>"
      ]
    },
    {
      "cell_type": "markdown",
      "source": [
        "# ***AIM***\n",
        "To train a neural network model for water-T2 (wT2) pixel-wise prediction of the lower limbs for a cohort of neuromuscular disorders. It is an image-to-image translation problem in supervised regression mode.\n",
        "\n",
        "# ***BACKGROUND***\n",
        "In this notebook, we will train a 2D-Unet to predict the pixel-wise wT2 value (measured in millisecond, ms) of lower limbs from MRI images. wT2 is a validated MRI biomarker that correlates with the amount of inflammation that muscles undergo in several neuromuscular diseases. Standard analytical method to measure wT2 takes several time , up to 10 minutes per each patient. In clinical practice, it is desiderable to speed up the process of quantification, so Neural Network models break in.\n",
        "\n",
        "For more info about the standard post-processing software: https://github.com/fsantini/MyoQMRI\n",
        "\n",
        "\n",
        "***The input images*** of the network are ***Multi-echo Spin-Echo (17 echoes)*** images with 4-dimensions:  (slice, x, y, number of echo).\n",
        "\n",
        "***The reference images*** are the ***water T2 maps*** computed with the standard post-processing software with 3-dimensions: (slice, x, y)\n",
        "\n"
      ],
      "metadata": {
        "id": "w4zFQJ5PM-C8"
      }
    },
    {
      "cell_type": "code",
      "source": [
        "''' mount google drive where dataset is stored '''\n",
        "from google.colab import drive\n",
        "drive.mount('/content/drive')"
      ],
      "metadata": {
        "id": "b18jq_kNZUxI"
      },
      "execution_count": null,
      "outputs": []
    },
    {
      "cell_type": "code",
      "source": [
        "''' download dataset '''\n",
        "!unzip /content/drive/MyDrive/MEET_repository/data/input.zip\n",
        "!unzip /content/drive/MyDrive/MEET_repository/data/reference.zip"
      ],
      "metadata": {
        "id": "hh5RrytzMpNZ"
      },
      "execution_count": null,
      "outputs": []
    },
    {
      "cell_type": "code",
      "source": [
        "''' import all packages that we will need '''\n",
        "import os\n",
        "import numpy as np\n",
        "# natsort package allow to load the input and reference data in numerical order, i.e. avoid any shuffling\n",
        "import natsort as nt\n",
        "import matplotlib.pyplot as plt\n",
        "import tensorflow as tf\n",
        "from tensorflow import keras"
      ],
      "metadata": {
        "id": "b5fiN0p6jZ1N"
      },
      "execution_count": null,
      "outputs": []
    },
    {
      "cell_type": "code",
      "source": [
        "''' Set path to training set and test set for input and reference data '''\n",
        "input_files = os.listdir('input')\n",
        "reference_files = os.listdir('reference')\n",
        "print(input_files)\n",
        "print(reference_files)"
      ],
      "metadata": {
        "id": "dfOD8L5oN4lc"
      },
      "execution_count": null,
      "outputs": []
    },
    {
      "cell_type": "code",
      "source": [
        "'''Create the paths to all npy files for input and reference training set'''\n",
        "input_train = [os.path.join('input', input_files[0], x) for x in nt.natsorted(os.listdir('input/'+input_files[0]))]\n",
        "reference_train = [os.path.join('reference', reference_files[0], x) for x in nt.natsorted(os.listdir('reference/'+reference_files[0]))]\n",
        "\n",
        "print(input_train)\n",
        "print(reference_train)\n",
        "\n",
        "'''Create the paths to all npy files for input and reference test set'''\n",
        "input_test = [os.path.join('input', input_files[1], x) for x in nt.natsorted(os.listdir('input/'+input_files[1]))]\n",
        "reference_test =  [os.path.join('reference', reference_files[1], x) for x in nt.natsorted(os.listdir('reference/'+reference_files[1]))]\n",
        "\n",
        "print(input_test)\n",
        "print(reference_test)\n"
      ],
      "metadata": {
        "id": "wN8SlWqwjJ8d"
      },
      "execution_count": null,
      "outputs": []
    },
    {
      "cell_type": "code",
      "source": [
        "'''select 100 train input and reference data to avoid RAM issue in model.fit'''\n",
        "input_train = input_train[:100]\n",
        "reference_train = reference_train[:100]\n"
      ],
      "metadata": {
        "id": "2PTdo2OHGPZJ"
      },
      "execution_count": null,
      "outputs": []
    },
    {
      "cell_type": "code",
      "source": [
        "'''load data with numpy package'''\n",
        "def load_data(x,y):\n",
        "  inp = np.array([np.load(ima) for ima in x])\n",
        "  ref = [np.load(ima) for ima in y]\n",
        "  ref = np.array([ima[0,:,:] if ima.shape[0] == 2 else ima for ima in ref])\n",
        "  return inp, ref\n",
        "\n",
        "train_input_arr, train_reference_arr = load_data(input_train, reference_train)\n",
        "test_input_arr, test_reference_arr = load_data(input_test, reference_test)\n",
        "\n",
        "print(\"input trainset shape: {i}, reference trainset shape: {j}\".format(i=train_input_arr.shape, j=train_reference_arr.shape))\n",
        "print(\"input testset shape: {i}, reference testset shape: {j}\".format(i=test_input_arr.shape, j=test_reference_arr.shape))"
      ],
      "metadata": {
        "id": "CGPns3Duk5Me"
      },
      "execution_count": null,
      "outputs": []
    },
    {
      "cell_type": "code",
      "source": [
        "''' let's plot some couple of input and reference training data '''\n",
        "for i in range(0,3):\n",
        "  # np.rot90 to rotate the x-y plane for better visualization\n",
        "  plt.imshow(np.rot90(train_input_arr[i,:,:,1],1), cmap = 'gray')\n",
        "  plt.figure()\n",
        "  plt.imshow(np.rot90(train_reference_arr[i,:,:],1), cmap='gray')\n",
        "  plt.figure()\n"
      ],
      "metadata": {
        "id": "R-1wvu-GndDp"
      },
      "execution_count": null,
      "outputs": []
    },
    {
      "cell_type": "code",
      "source": [
        "'''Input and reference normalization'''\n",
        "# MinMaxScaler for input data between [0,1]\n",
        "def getminmax(x):\n",
        "  data = x.flatten()\n",
        "  val_max = np.max(data)\n",
        "  val_min = np.min(data)\n",
        "  return val_max, val_min\n",
        "\n",
        "def minmaxscaler(x,inf,sup):\n",
        "  scaled = [(ima - val_min)/(val_max-val_min) for ima in x]\n",
        "  scaled_arr = np.array(scaled)\n",
        "  return scaled_arr\n",
        "\n",
        "# concatenate train and test input arr to get min and max values for the entire datastack\n",
        "data = np.concatenate((train_input_arr, test_input_arr), axis = 0)\n",
        "val_max, val_min = getminmax(data)\n",
        "\n",
        "train_input_arr_scaled = minmaxscaler(train_input_arr, val_min, val_max)\n",
        "test_input_arr_scaled = minmaxscaler(test_input_arr, val_min, val_max)\n",
        "\n",
        "# The values range for reference_arr is [0,100 ms] because wT2 in neuromuscular disordes naturally ranges in this inteval. So, wT2 values are rescaled in [0,1] with simple *0.01 multiplication\n",
        "train_reference_arr_scaled = train_reference_arr*0.01\n",
        "test_reference_arr_scaled = test_reference_arr*0.01\n",
        "\n",
        "print(\"input scaled min value: {i}, max value: {j}\".format(i=np.min(train_input_arr_scaled), j=np.max(train_input_arr_scaled)))\n",
        "print(\"reference scaled min value: {i}, max value: {j}\".format(i=np.min(train_reference_arr_scaled), j=np.max(train_reference_arr_scaled)))\n"
      ],
      "metadata": {
        "id": "9AjYJoiBIxp6"
      },
      "execution_count": null,
      "outputs": []
    },
    {
      "cell_type": "code",
      "source": [
        "''' let's plot some couple of rescaled input and reference training data '''\n",
        "for i in range(0,3):\n",
        "  plt.imshow(np.rot90(train_input_arr_scaled[i,:,:,0],1), cmap = 'gray')\n",
        "  plt.figure()\n",
        "  plt.imshow(np.rot90(train_reference_arr_scaled[i,:,:],1), cmap='gray')\n",
        "  plt.figure()"
      ],
      "metadata": {
        "id": "8AEMa1rZMd2f"
      },
      "execution_count": null,
      "outputs": []
    },
    {
      "cell_type": "markdown",
      "source": [
        "# ***Let's dive into the network***"
      ],
      "metadata": {
        "id": "0PsxxgVeP8YV"
      }
    },
    {
      "cell_type": "markdown",
      "source": [
        "***U-net*** consists in sequantial blocks (blue boxes) where the inputs (images) are mathematically transformed to learn high-level features, i.e. deeper representation of the inputs. Figure below: pictorial description of ***U-net*** architecture.\n",
        "\n",
        "![Unet_arch.png](data:image/png;base64,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)"
      ],
      "metadata": {
        "id": "DNID99iTT8oE"
      }
    },
    {
      "cell_type": "markdown",
      "source": [
        "# ***MODEL DEFINITION***\n",
        "\n",
        "***2D- Unet*** model definition with ***Keras API***.\n",
        "\n",
        "***BASIC UNITS***\n",
        "- ***Encoder block*** :\n",
        "\n",
        "**i)** ***Conv2D*** with k filters (3,3);\n",
        "\n",
        "**ii)** two ***Residual Block*** to promote identity mapping. Each residual is composed by ***BatchNorm, ReLu activation, Conv2D***. The ***Addition*** layer between the input and output of residual layer is the exit of ***Residual Block***\n",
        "\n",
        "**iii)** ***Conv2D*** with k filters (3,3) with stride (2,2) to halve the matrix size\n",
        "\n",
        "- ***Bottleneck block***:\n",
        "\n",
        "connect the encoder to the decoder branch with ***Conv2D, Residual Block*** without changes to the matrix size\n",
        "\n",
        "- ***Decoder block***:\n",
        "\n",
        "**i)** ***Conv2DTranspose*** with k filters (3,3);\n",
        "\n",
        "**ii)** ***Concatenate*** layer for skip connection with the encoder block\n",
        "\n",
        "**iii)** ***Conv2D*** with k filters (3,3) to extract features from the concatenate layer\n",
        "\n",
        "**iv)** two ***Residual Block*** to promote identity mapping. Each residual is composed by ***BatchNorm, ReLu activation, Conv2D***. The ***Addition*** layer between the input and output of residual layer is the exit of ***Residual Block***\n",
        "\n",
        "**v)** ***Conv2DTranspose*** with k filters (3,3) with stride (2,2) to double the matrix size\n",
        "\n",
        "***NETWORK ARCHITECTURE***\n",
        "\n",
        "Encoder branch with four  ***Encoder block***: each block has double number of filters with respect to the previous block.\n",
        "\n",
        "Bottleneck to connect the encoder to decoder branch.\n",
        "\n",
        "Decoder branch with four ***Decoder block***: each block has half the number of filter of the previous block to restore the original matrix size.\n",
        "\n",
        "\n",
        "Exit of the model is a ***Conv2D*** layer + ***ReLu activation*** to match the expected number of channel, i.e. 1\n"
      ],
      "metadata": {
        "id": "wE41rd74QF6F"
      }
    },
    {
      "cell_type": "code",
      "source": [
        "X_train, y_train = train_input_arr_scaled, train_reference_arr_scaled"
      ],
      "metadata": {
        "id": "qin8UsDOUMAK"
      },
      "execution_count": null,
      "outputs": []
    },
    {
      "cell_type": "code",
      "source": [
        "keras.backend.clear_session()\n",
        "\n",
        "def BatchActivate(x):\n",
        "    x = keras.layers.BatchNormalization()(x)\n",
        "    x = keras.layers.Activation('relu')(x)\n",
        "    return x\n",
        "\n",
        "def convolution_block(x, filters, size, strides=(1,1), padding='same', activation=True):\n",
        "    x = keras.layers.Conv2D(filters, size, strides=strides, padding=padding)(x)\n",
        "    if activation==True: x = BatchActivate(x)\n",
        "    return x\n",
        "\n",
        "def residual_block(blockInput, num_filters, batch_activate=False):\n",
        "    x = BatchActivate(blockInput)\n",
        "    x = convolution_block(x, num_filters, (3,3))\n",
        "    x = convolution_block(x, num_filters, (3,3), activation=False)\n",
        "    x = keras.layers.Add()([x, blockInput])\n",
        "    if batch_activate:\n",
        "        x = BatchActivate(x)\n",
        "    return x\n",
        "\n",
        "# encoder block\n",
        "def encoder(previous_layer,k, **kargs):\n",
        "    d = keras.layers.Conv2D(k,3,padding=\"same\",**kargs)(previous_layer)\n",
        "    res = residual_block(d,k)\n",
        "    res = residual_block(res,k, True)\n",
        "    d = keras.layers.Conv2D(k,3,strides=(2,2),padding='same', **kargs)(res)\n",
        "    d = BatchActivate(d)\n",
        "    return d\n",
        "\n",
        "# bottleneck block\n",
        "def bottleneck(previous_layer,k, **kargs):\n",
        "    b = keras.layers.Conv2D(k,3,padding=\"same\",**kargs)(previous_layer)\n",
        "    b = residual_block(b, k)\n",
        "    b = residual_block(b, k, True)\n",
        "    return b\n",
        "\n",
        "# decoder block\n",
        "def decoder(previous_layer,down_layer,k, **kargs):\n",
        "    u = keras.layers.Conv2DTranspose(k,3,padding=\"same\",**kargs)(previous_layer)\n",
        "    u = keras.layers.Concatenate(axis=-1)([u,down_layer])\n",
        "    u = BatchActivate(u)\n",
        "    u = keras.layers.Conv2D(k,3,padding=\"same\",**kargs)(u)\n",
        "    res = residual_block(u,k)\n",
        "    res = residual_block(res,k, True)\n",
        "    u = keras.layers.Conv2DTranspose(k,3,strides=(2,2), padding=\"same\", **kargs)(res)\n",
        "    u = BatchActivate(u)\n",
        "    return u\n",
        "\n",
        "'''\n",
        "params dictionary includes:\n",
        "1) regularizer l2 to prevent overfitting\n",
        "2) weights initializer set as random normal\n",
        "'''\n",
        "def model(input_shape=(384,192,17),k=16,reg=0.0001):\n",
        "    inputs=keras.layers.Input(shape=(input_shape))\n",
        "\n",
        "    params = {\"kernel_regularizer\" : keras.regularizers.l2(reg),\n",
        "              \"kernel_initializer\" : 'random_normal'}\n",
        "\n",
        "    d1 = encoder(inputs,k,**params)\n",
        "    d2 = encoder(d1,k*2,**params)\n",
        "    d3 = encoder(d2,k*4,**params)\n",
        "    d4 = encoder(d3, k*8, **params)\n",
        "\n",
        "    b = bottleneck(d4,k*16,**params)\n",
        "\n",
        "    u1 = decoder(b,d4,k*8,**params)\n",
        "    u2 = decoder(u1,d3,k*4,**params)\n",
        "    u3 = decoder(u2,d2,k*2,**params)\n",
        "    u4 = decoder(u3,d1,k,**params)\n",
        "\n",
        "    out = keras.layers.Conv2D(1,1,padding=\"same\",**params)(u4)\n",
        "    out = keras.activations.relu(out)\n",
        "\n",
        "    model=keras.models.Model(inputs=inputs,outputs=out)\n",
        "\n",
        "    return model"
      ],
      "metadata": {
        "id": "VWvoEWebUSM8"
      },
      "execution_count": null,
      "outputs": []
    },
    {
      "cell_type": "code",
      "source": [
        "# call the model and check the summary\n",
        "model = model()\n",
        "model.summary()"
      ],
      "metadata": {
        "id": "hgws-Cf8UlkN"
      },
      "execution_count": null,
      "outputs": []
    },
    {
      "cell_type": "markdown",
      "source": [
        "# Call the optimizer and compile the model, i.e. configure the model for training\n",
        "***Adam Optimizer*** for gradient descend, the ***Mean Squared Error (MSE)*** as loss function and the ***Mean Absolute Error (MAE)*** as accuracy metric"
      ],
      "metadata": {
        "id": "DZOvoItvVamQ"
      }
    },
    {
      "cell_type": "code",
      "source": [
        "adam = keras.optimizers.Adam(learning_rate=0.0001,\n",
        "      beta_1=0.9,\n",
        "      beta_2=0.999,\n",
        "      epsilon=1e-08,\n",
        "      amsgrad=True)\n",
        "model.compile(\n",
        "      loss='mse',\n",
        "      optimizer=adam,\n",
        "      metrics=[\"mean_absolute_error\"])"
      ],
      "metadata": {
        "id": "XzWJgaxsUzTN"
      },
      "execution_count": null,
      "outputs": []
    },
    {
      "cell_type": "markdown",
      "source": [
        "# Model Fitting"
      ],
      "metadata": {
        "id": "1ZRhqnXcV5BQ"
      }
    },
    {
      "cell_type": "code",
      "source": [
        "history = model.fit(\n",
        "    X_train,\n",
        "    y_train,\n",
        "    batch_size = 1,\n",
        "    epochs=50)"
      ],
      "metadata": {
        "id": "_moVX1SGV4OQ"
      },
      "execution_count": null,
      "outputs": []
    },
    {
      "cell_type": "markdown",
      "source": [
        "# **let's have a look to the training loss**"
      ],
      "metadata": {
        "id": "pJL-HV-tZjq_"
      }
    },
    {
      "cell_type": "code",
      "source": [
        "plt.plot(history.history['loss'])\n",
        "plt.title('model accuracy')\n",
        "plt.ylabel('mse loss')\n",
        "plt.xlabel('epoch')\n",
        "plt.legend(['train'], loc='upper left')"
      ],
      "metadata": {
        "id": "Vxrr5uu7aUNw"
      },
      "execution_count": null,
      "outputs": []
    },
    {
      "cell_type": "markdown",
      "source": [
        "# **let's evaluate the model with test set data**"
      ],
      "metadata": {
        "id": "O-UCZRWYO_11"
      }
    },
    {
      "cell_type": "code",
      "source": [
        "X_test, y_test = test_input_arr_scaled, test_reference_arr_scaled\n",
        "\n",
        "# expand last dim of y_test to match the prediction dataset shape: useful to evaluate the accuracy metric between the test set and the model prediction\n",
        "y_test = np.expand_dims(y_test, axis =-1)\n",
        "y_test.shape"
      ],
      "metadata": {
        "id": "AuSibythPfHY"
      },
      "execution_count": null,
      "outputs": []
    },
    {
      "cell_type": "code",
      "source": [
        "evaluation = model.evaluate(X_test,y_test,\n",
        "        batch_size=1,\n",
        "        verbose=\"auto\",\n",
        "        steps=10\n",
        "    )\n",
        "\n",
        "out = model.predict(X_test)\n",
        "print(out.shape)"
      ],
      "metadata": {
        "id": "dPqYLt_LPG-P"
      },
      "execution_count": null,
      "outputs": []
    },
    {
      "cell_type": "code",
      "source": [
        "'''Let's plot the prediction made on the test set'''\n",
        "for i in range(0,5):\n",
        "  plt.imshow(out[i,...], cmap = 'gray')\n",
        "  plt.figure()"
      ],
      "metadata": {
        "id": "0wyUvZp_P0Ew"
      },
      "execution_count": null,
      "outputs": []
    },
    {
      "cell_type": "markdown",
      "source": [
        "# **Percentage relative error (PRE) metric and Structural Similarity index (SSIM) to assess test performance**"
      ],
      "metadata": {
        "id": "BXCX3UY8Qdap"
      }
    },
    {
      "cell_type": "code",
      "source": [
        "# compute ssim slice-wise\n",
        "ssim = tf.image.ssim(y_test.astype('float32'), out.astype('float32'), max_val=1.0)\n",
        "\n",
        "# compute mean ssim over the prediction dataset\n",
        "mean_ssim = tf.reduce_mean(ssim)\n",
        "print('mean ssim index over the prediction dataset: {idx}'.format(idx=mean_ssim))\n",
        "\n",
        "# compute the PRE maps between test and prediction set\n",
        "pre = 100*(np.absolute((y_test - out)/y_test))\n"
      ],
      "metadata": {
        "id": "sCoXBqrBQvop"
      },
      "execution_count": null,
      "outputs": []
    },
    {
      "cell_type": "code",
      "source": [
        "'''Plot some pre maps'''\n",
        "for fig in pre[:5,...]:\n",
        "  plt.imshow(fig, cmap='gray')\n",
        "  plt.figure()"
      ],
      "metadata": {
        "id": "GVekXtoIS-b3"
      },
      "execution_count": null,
      "outputs": []
    }
  ]
}